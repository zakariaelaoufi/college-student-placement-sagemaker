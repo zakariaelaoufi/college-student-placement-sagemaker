{
 "cells": [
  {
   "cell_type": "code",
   "execution_count": 1,
   "id": "68045124-f85f-4e0c-a778-1c6f6f884fe9",
   "metadata": {
    "execution": {
     "iopub.execute_input": "2025-07-24T19:11:15.636882Z",
     "iopub.status.busy": "2025-07-24T19:11:15.636097Z",
     "iopub.status.idle": "2025-07-24T19:11:18.004014Z",
     "shell.execute_reply": "2025-07-24T19:11:18.002932Z",
     "shell.execute_reply.started": "2025-07-24T19:11:15.636852Z"
    }
   },
   "outputs": [
    {
     "name": "stdout",
     "output_type": "stream",
     "text": [
      "sagemaker.config INFO - Not applying SDK defaults from location: /etc/xdg/sagemaker/config.yaml\n",
      "sagemaker.config INFO - Not applying SDK defaults from location: /home/sagemaker-user/.config/sagemaker/config.yaml\n",
      "arn:aws:iam::625209709701:role/SageMaker_Execution_Role_AWS\n"
     ]
    }
   ],
   "source": [
    "import boto3\n",
    "import sagemaker\n",
    "from sagemaker import get_execution_role\n",
    "\n",
    "role = get_execution_role()\n",
    "session = sagemaker.Session()\n",
    "print(role)"
   ]
  },
  {
   "cell_type": "code",
   "execution_count": 2,
   "id": "f98e97e2-0611-4f72-a0a3-c32e12d3b03c",
   "metadata": {
    "execution": {
     "iopub.execute_input": "2025-07-24T19:11:18.006429Z",
     "iopub.status.busy": "2025-07-24T19:11:18.006081Z",
     "iopub.status.idle": "2025-07-24T19:11:18.010057Z",
     "shell.execute_reply": "2025-07-24T19:11:18.009310Z",
     "shell.execute_reply.started": "2025-07-24T19:11:18.006405Z"
    }
   },
   "outputs": [],
   "source": [
    "model_path = \"s3://ml-project-demo-zakaria/model/rf-training-job-2025-07-24-19-04-11-535/output/model.tar.gz\""
   ]
  },
  {
   "cell_type": "code",
   "execution_count": 4,
   "id": "c7a7406e-64af-4063-b27f-9519bf4c690f",
   "metadata": {
    "execution": {
     "iopub.execute_input": "2025-07-24T19:11:22.188843Z",
     "iopub.status.busy": "2025-07-24T19:11:22.188133Z",
     "iopub.status.idle": "2025-07-24T19:11:22.192257Z",
     "shell.execute_reply": "2025-07-24T19:11:22.191580Z",
     "shell.execute_reply.started": "2025-07-24T19:11:22.188815Z"
    }
   },
   "outputs": [],
   "source": [
    "from sagemaker.sklearn import SKLearnModel\n",
    "\n",
    "model = SKLearnModel(\n",
    "    model_data=model_path,\n",
    "    source_dir='./',\n",
    "    entry_point=\"inference.py\",\n",
    "    framework_version='0.23-1',\n",
    "    py_version=\"py3\",\n",
    "    role=role\n",
    ")"
   ]
  },
  {
   "cell_type": "code",
   "execution_count": 9,
   "id": "999069c8-ca3b-4604-97a5-efc97c1f83df",
   "metadata": {
    "execution": {
     "iopub.execute_input": "2025-07-24T20:09:08.388973Z",
     "iopub.status.busy": "2025-07-24T20:09:08.388323Z",
     "iopub.status.idle": "2025-07-24T20:12:38.014510Z",
     "shell.execute_reply": "2025-07-24T20:12:38.013657Z",
     "shell.execute_reply.started": "2025-07-24T20:09:08.388947Z"
    }
   },
   "outputs": [
    {
     "name": "stdout",
     "output_type": "stream",
     "text": [
      "-----!"
     ]
    }
   ],
   "source": [
    "predictor = model.deploy(\n",
    "    initial_instance_count=1,\n",
    "    instance_type='ml.m5.xlarge',\n",
    "    endpoint_name=\"first-test-1\"\n",
    ")"
   ]
  },
  {
   "cell_type": "code",
   "execution_count": 10,
   "id": "48e31453-9c6d-4d2f-a0cb-222b80319904",
   "metadata": {
    "execution": {
     "iopub.execute_input": "2025-07-24T20:13:50.002708Z",
     "iopub.status.busy": "2025-07-24T20:13:50.001726Z",
     "iopub.status.idle": "2025-07-24T20:13:50.008656Z",
     "shell.execute_reply": "2025-07-24T20:13:50.007824Z",
     "shell.execute_reply.started": "2025-07-24T20:13:50.002675Z"
    }
   },
   "outputs": [
    {
     "data": {
      "text/plain": [
       "<sagemaker.sklearn.model.SKLearnModel at 0x7f809b9bc1a0>"
      ]
     },
     "execution_count": 10,
     "metadata": {},
     "output_type": "execute_result"
    }
   ],
   "source": [
    "model"
   ]
  },
  {
   "cell_type": "code",
   "execution_count": 40,
   "id": "0a3e42ef-f90b-45f3-abfb-7ded6d9e4c68",
   "metadata": {
    "execution": {
     "iopub.execute_input": "2025-07-24T20:30:39.519236Z",
     "iopub.status.busy": "2025-07-24T20:30:39.518835Z",
     "iopub.status.idle": "2025-07-24T20:30:39.524044Z",
     "shell.execute_reply": "2025-07-24T20:30:39.523253Z",
     "shell.execute_reply.started": "2025-07-24T20:30:39.519200Z"
    }
   },
   "outputs": [],
   "source": [
    "single_sample = [100.0, 5.53, 6.02, 2.0, 0.0, 10.0, 10.0, 0.0]"
   ]
  },
  {
   "cell_type": "code",
   "execution_count": 36,
   "id": "9fc028a0-6f91-415c-8593-4707fcb02517",
   "metadata": {
    "execution": {
     "iopub.execute_input": "2025-07-24T20:29:54.880296Z",
     "iopub.status.busy": "2025-07-24T20:29:54.879739Z",
     "iopub.status.idle": "2025-07-24T20:29:54.883589Z",
     "shell.execute_reply": "2025-07-24T20:29:54.882951Z",
     "shell.execute_reply.started": "2025-07-24T20:29:54.880265Z"
    }
   },
   "outputs": [],
   "source": [
    "from sagemaker.serializers import JSONSerializer\n",
    "from sagemaker.deserializers import JSONDeserializer\n",
    "\n",
    "predictor.serializer = JSONSerializer()\n",
    "predictor.deserializer = JSONDeserializer()\n",
    "predictor.accept = \"application/json\""
   ]
  },
  {
   "cell_type": "code",
   "execution_count": 41,
   "id": "fc74ed1f-eb13-48c9-9b82-f8fb59fea79b",
   "metadata": {
    "execution": {
     "iopub.execute_input": "2025-07-24T20:30:43.531893Z",
     "iopub.status.busy": "2025-07-24T20:30:43.530771Z",
     "iopub.status.idle": "2025-07-24T20:30:43.548740Z",
     "shell.execute_reply": "2025-07-24T20:30:43.547993Z",
     "shell.execute_reply.started": "2025-07-24T20:30:43.531863Z"
    }
   },
   "outputs": [
    {
     "name": "stdout",
     "output_type": "stream",
     "text": [
      "['No']\n"
     ]
    }
   ],
   "source": [
    "single_sample_dict = {\n",
    "    \"feature1\": 100.0,\n",
    "    \"feature2\": 5.53,\n",
    "    \"feature3\": 6.02,\n",
    "    \"feature4\": 2.0,\n",
    "    \"feature5\": 0.0,\n",
    "    \"feature6\": 10.0,\n",
    "    \"feature7\": 10.0,\n",
    "    \"feature8\": 0.0\n",
    "}\n",
    "\n",
    "result = predictor.predict(single_sample_dict)\n",
    "print(result)"
   ]
  }
 ],
 "metadata": {
  "kernelspec": {
   "display_name": "Python 3 (ipykernel)",
   "language": "python",
   "name": "python3"
  },
  "language_info": {
   "codemirror_mode": {
    "name": "ipython",
    "version": 3
   },
   "file_extension": ".py",
   "mimetype": "text/x-python",
   "name": "python",
   "nbconvert_exporter": "python",
   "pygments_lexer": "ipython3",
   "version": "3.12.9"
  }
 },
 "nbformat": 4,
 "nbformat_minor": 5
}
