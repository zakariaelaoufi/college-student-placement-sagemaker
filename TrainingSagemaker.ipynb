{
 "cells": [
  {
   "cell_type": "code",
   "execution_count": 1,
   "id": "a23a393f-27ab-4397-b4ca-68b3ccf168f3",
   "metadata": {
    "execution": {
     "iopub.execute_input": "2025-07-24T19:02:02.564226Z",
     "iopub.status.busy": "2025-07-24T19:02:02.563925Z",
     "iopub.status.idle": "2025-07-24T19:02:05.491969Z",
     "shell.execute_reply": "2025-07-24T19:02:05.490313Z",
     "shell.execute_reply.started": "2025-07-24T19:02:02.564204Z"
    }
   },
   "outputs": [
    {
     "name": "stdout",
     "output_type": "stream",
     "text": [
      "sagemaker.config INFO - Not applying SDK defaults from location: /etc/xdg/sagemaker/config.yaml\n",
      "sagemaker.config INFO - Not applying SDK defaults from location: /home/sagemaker-user/.config/sagemaker/config.yaml\n",
      "arn:aws:iam::625209709701:role/SageMaker_Execution_Role_AWS\n"
     ]
    }
   ],
   "source": [
    "import boto3\n",
    "import sagemaker\n",
    "from sagemaker import get_execution_role\n",
    "\n",
    "role = get_execution_role()\n",
    "session = sagemaker.Session()\n",
    "print(role)"
   ]
  },
  {
   "cell_type": "code",
   "execution_count": 4,
   "id": "ca1c3569-9ca5-45bc-917a-98ce584849e5",
   "metadata": {
    "execution": {
     "iopub.execute_input": "2025-07-24T19:03:02.192735Z",
     "iopub.status.busy": "2025-07-24T19:03:02.189880Z",
     "iopub.status.idle": "2025-07-24T19:03:02.199315Z",
     "shell.execute_reply": "2025-07-24T19:03:02.197594Z",
     "shell.execute_reply.started": "2025-07-24T19:03:02.192700Z"
    }
   },
   "outputs": [],
   "source": [
    "from sagemaker.sklearn import SKLearn"
   ]
  },
  {
   "cell_type": "code",
   "execution_count": 8,
   "id": "dcb893fd-aae5-4828-86e5-0b437ea1620a",
   "metadata": {
    "execution": {
     "iopub.execute_input": "2025-07-24T19:04:08.249927Z",
     "iopub.status.busy": "2025-07-24T19:04:08.249124Z",
     "iopub.status.idle": "2025-07-24T19:04:08.307963Z",
     "shell.execute_reply": "2025-07-24T19:04:08.307134Z",
     "shell.execute_reply.started": "2025-07-24T19:04:08.249888Z"
    }
   },
   "outputs": [],
   "source": [
    "model = SKLearn(\n",
    "    entry_point='script.py',\n",
    "    source_dir='./',\n",
    "    role=role,\n",
    "    instance_count=1,\n",
    "    instance_type='ml.m4.xlarge',\n",
    "    framework_version='0.23-1',\n",
    "    py_version='py3',\n",
    "    output_path=\"s3://ml-project-demo-zakaria/model/\",\n",
    "    hyperparameters={\n",
    "        'random_state': 42,\n",
    "        'max_depth': 6,\n",
    "        'n_estimators': 16\n",
    "    },\n",
    "    base_job_name='rf-training-job' \n",
    ")"
   ]
  },
  {
   "cell_type": "code",
   "execution_count": 9,
   "id": "91b0e64d-2e1e-4f4e-9740-877f6e4dbfdf",
   "metadata": {
    "execution": {
     "iopub.execute_input": "2025-07-24T19:04:09.969555Z",
     "iopub.status.busy": "2025-07-24T19:04:09.969170Z",
     "iopub.status.idle": "2025-07-24T19:04:09.973875Z",
     "shell.execute_reply": "2025-07-24T19:04:09.973078Z",
     "shell.execute_reply.started": "2025-07-24T19:04:09.969522Z"
    }
   },
   "outputs": [],
   "source": [
    "raw_data_input = sagemaker.inputs.TrainingInput(\n",
    "    s3_data='s3://ml-project-demo-zakaria/training_data/cleaned_data.csv',\n",
    "    content_type='csv'\n",
    ")"
   ]
  },
  {
   "cell_type": "code",
   "execution_count": 10,
   "id": "5b0b5f8c-e123-4502-a82b-fd34cab1bd3d",
   "metadata": {
    "execution": {
     "iopub.execute_input": "2025-07-24T19:04:11.533235Z",
     "iopub.status.busy": "2025-07-24T19:04:11.532838Z",
     "iopub.status.idle": "2025-07-24T19:07:28.345360Z",
     "shell.execute_reply": "2025-07-24T19:07:28.344652Z",
     "shell.execute_reply.started": "2025-07-24T19:04:11.533195Z"
    }
   },
   "outputs": [
    {
     "name": "stderr",
     "output_type": "stream",
     "text": [
      "INFO:sagemaker:Creating training-job with name: rf-training-job-2025-07-24-19-04-11-535\n"
     ]
    },
    {
     "name": "stdout",
     "output_type": "stream",
     "text": [
      "2025-07-24 19:04:40 Starting - Starting the training job...\n",
      "2025-07-24 19:05:04 Starting - Preparing the instances for training...\n",
      "2025-07-24 19:05:27 Downloading - Downloading input data...\n",
      "2025-07-24 19:05:47 Downloading - Downloading the training image...\n",
      "2025-07-24 19:06:33 Training - Training image download completed. Training in progress..\u001b[34m2025-07-24 19:06:45,030 sagemaker-containers INFO     Imported framework sagemaker_sklearn_container.training\u001b[0m\n",
      "\u001b[34m2025-07-24 19:06:45,034 sagemaker-training-toolkit INFO     No GPUs detected (normal if no gpus installed)\u001b[0m\n",
      "\u001b[34m2025-07-24 19:06:45,081 sagemaker_sklearn_container.training INFO     Invoking user training script.\u001b[0m\n",
      "\u001b[34m2025-07-24 19:06:46,535 sagemaker-training-toolkit INFO     No GPUs detected (normal if no gpus installed)\u001b[0m\n",
      "\u001b[34m2025-07-24 19:06:46,548 sagemaker-training-toolkit INFO     No GPUs detected (normal if no gpus installed)\u001b[0m\n",
      "\u001b[34m2025-07-24 19:06:46,561 sagemaker-training-toolkit INFO     No GPUs detected (normal if no gpus installed)\u001b[0m\n",
      "\u001b[34m2025-07-24 19:06:46,571 sagemaker-training-toolkit INFO     Invoking user script\u001b[0m\n",
      "\u001b[34mTraining Env:\u001b[0m\n",
      "\u001b[34m{\n",
      "    \"additional_framework_parameters\": {},\n",
      "    \"channel_input_dirs\": {\n",
      "        \"train\": \"/opt/ml/input/data/train\"\n",
      "    },\n",
      "    \"current_host\": \"algo-1\",\n",
      "    \"framework_module\": \"sagemaker_sklearn_container.training:main\",\n",
      "    \"hosts\": [\n",
      "        \"algo-1\"\n",
      "    ],\n",
      "    \"hyperparameters\": {\n",
      "        \"max_depth\": 6,\n",
      "        \"n_estimators\": 16,\n",
      "        \"random_state\": 42\n",
      "    },\n",
      "    \"input_config_dir\": \"/opt/ml/input/config\",\n",
      "    \"input_data_config\": {\n",
      "        \"train\": {\n",
      "            \"ContentType\": \"csv\",\n",
      "            \"TrainingInputMode\": \"File\",\n",
      "            \"S3DistributionType\": \"FullyReplicated\",\n",
      "            \"RecordWrapperType\": \"None\"\n",
      "        }\n",
      "    },\n",
      "    \"input_dir\": \"/opt/ml/input\",\n",
      "    \"is_master\": true,\n",
      "    \"job_name\": \"rf-training-job-2025-07-24-19-04-11-535\",\n",
      "    \"log_level\": 20,\n",
      "    \"master_hostname\": \"algo-1\",\n",
      "    \"model_dir\": \"/opt/ml/model\",\n",
      "    \"module_dir\": \"s3://ml-project-demo-zakaria/rf-training-job-2025-07-24-19-04-11-535/source/sourcedir.tar.gz\",\n",
      "    \"module_name\": \"script\",\n",
      "    \"network_interface_name\": \"eth0\",\n",
      "    \"num_cpus\": 4,\n",
      "    \"num_gpus\": 0,\n",
      "    \"output_data_dir\": \"/opt/ml/output/data\",\n",
      "    \"output_dir\": \"/opt/ml/output\",\n",
      "    \"output_intermediate_dir\": \"/opt/ml/output/intermediate\",\n",
      "    \"resource_config\": {\n",
      "        \"current_host\": \"algo-1\",\n",
      "        \"current_instance_type\": \"ml.m4.xlarge\",\n",
      "        \"current_group_name\": \"homogeneousCluster\",\n",
      "        \"hosts\": [\n",
      "            \"algo-1\"\n",
      "        ],\n",
      "        \"instance_groups\": [\n",
      "            {\n",
      "                \"instance_group_name\": \"homogeneousCluster\",\n",
      "                \"instance_type\": \"ml.m4.xlarge\",\n",
      "                \"hosts\": [\n",
      "                    \"algo-1\"\n",
      "                ]\n",
      "            }\n",
      "        ],\n",
      "        \"network_interface_name\": \"eth0\",\n",
      "        \"topology\": null\n",
      "    },\n",
      "    \"user_entry_point\": \"script.py\"\u001b[0m\n",
      "\u001b[34m}\u001b[0m\n",
      "\u001b[34mEnvironment variables:\u001b[0m\n",
      "\u001b[34mSM_HOSTS=[\"algo-1\"]\u001b[0m\n",
      "\u001b[34mSM_NETWORK_INTERFACE_NAME=eth0\u001b[0m\n",
      "\u001b[34mSM_HPS={\"max_depth\":6,\"n_estimators\":16,\"random_state\":42}\u001b[0m\n",
      "\u001b[34mSM_USER_ENTRY_POINT=script.py\u001b[0m\n",
      "\u001b[34mSM_FRAMEWORK_PARAMS={}\u001b[0m\n",
      "\u001b[34mSM_RESOURCE_CONFIG={\"current_group_name\":\"homogeneousCluster\",\"current_host\":\"algo-1\",\"current_instance_type\":\"ml.m4.xlarge\",\"hosts\":[\"algo-1\"],\"instance_groups\":[{\"hosts\":[\"algo-1\"],\"instance_group_name\":\"homogeneousCluster\",\"instance_type\":\"ml.m4.xlarge\"}],\"network_interface_name\":\"eth0\",\"topology\":null}\u001b[0m\n",
      "\u001b[34mSM_INPUT_DATA_CONFIG={\"train\":{\"ContentType\":\"csv\",\"RecordWrapperType\":\"None\",\"S3DistributionType\":\"FullyReplicated\",\"TrainingInputMode\":\"File\"}}\u001b[0m\n",
      "\u001b[34mSM_OUTPUT_DATA_DIR=/opt/ml/output/data\u001b[0m\n",
      "\u001b[34mSM_CHANNELS=[\"train\"]\u001b[0m\n",
      "\u001b[34mSM_CURRENT_HOST=algo-1\u001b[0m\n",
      "\u001b[34mSM_MODULE_NAME=script\u001b[0m\n",
      "\u001b[34mSM_LOG_LEVEL=20\u001b[0m\n",
      "\u001b[34mSM_FRAMEWORK_MODULE=sagemaker_sklearn_container.training:main\u001b[0m\n",
      "\u001b[34mSM_INPUT_DIR=/opt/ml/input\u001b[0m\n",
      "\u001b[34mSM_INPUT_CONFIG_DIR=/opt/ml/input/config\u001b[0m\n",
      "\u001b[34mSM_OUTPUT_DIR=/opt/ml/output\u001b[0m\n",
      "\u001b[34mSM_NUM_CPUS=4\u001b[0m\n",
      "\u001b[34mSM_NUM_GPUS=0\u001b[0m\n",
      "\u001b[34mSM_MODEL_DIR=/opt/ml/model\u001b[0m\n",
      "\u001b[34mSM_MODULE_DIR=s3://ml-project-demo-zakaria/rf-training-job-2025-07-24-19-04-11-535/source/sourcedir.tar.gz\u001b[0m\n",
      "\u001b[34mSM_TRAINING_ENV={\"additional_framework_parameters\":{},\"channel_input_dirs\":{\"train\":\"/opt/ml/input/data/train\"},\"current_host\":\"algo-1\",\"framework_module\":\"sagemaker_sklearn_container.training:main\",\"hosts\":[\"algo-1\"],\"hyperparameters\":{\"max_depth\":6,\"n_estimators\":16,\"random_state\":42},\"input_config_dir\":\"/opt/ml/input/config\",\"input_data_config\":{\"train\":{\"ContentType\":\"csv\",\"RecordWrapperType\":\"None\",\"S3DistributionType\":\"FullyReplicated\",\"TrainingInputMode\":\"File\"}},\"input_dir\":\"/opt/ml/input\",\"is_master\":true,\"job_name\":\"rf-training-job-2025-07-24-19-04-11-535\",\"log_level\":20,\"master_hostname\":\"algo-1\",\"model_dir\":\"/opt/ml/model\",\"module_dir\":\"s3://ml-project-demo-zakaria/rf-training-job-2025-07-24-19-04-11-535/source/sourcedir.tar.gz\",\"module_name\":\"script\",\"network_interface_name\":\"eth0\",\"num_cpus\":4,\"num_gpus\":0,\"output_data_dir\":\"/opt/ml/output/data\",\"output_dir\":\"/opt/ml/output\",\"output_intermediate_dir\":\"/opt/ml/output/intermediate\",\"resource_config\":{\"current_group_name\":\"homogeneousCluster\",\"current_host\":\"algo-1\",\"current_instance_type\":\"ml.m4.xlarge\",\"hosts\":[\"algo-1\"],\"instance_groups\":[{\"hosts\":[\"algo-1\"],\"instance_group_name\":\"homogeneousCluster\",\"instance_type\":\"ml.m4.xlarge\"}],\"network_interface_name\":\"eth0\",\"topology\":null},\"user_entry_point\":\"script.py\"}\u001b[0m\n",
      "\u001b[34mSM_USER_ARGS=[\"--max_depth\",\"6\",\"--n_estimators\",\"16\",\"--random_state\",\"42\"]\u001b[0m\n",
      "\u001b[34mSM_OUTPUT_INTERMEDIATE_DIR=/opt/ml/output/intermediate\u001b[0m\n",
      "\u001b[34mSM_CHANNEL_TRAIN=/opt/ml/input/data/train\u001b[0m\n",
      "\u001b[34mSM_HP_MAX_DEPTH=6\u001b[0m\n",
      "\u001b[34mSM_HP_N_ESTIMATORS=16\u001b[0m\n",
      "\u001b[34mSM_HP_RANDOM_STATE=42\u001b[0m\n",
      "\u001b[34mPYTHONPATH=/opt/ml/code:/miniconda3/bin:/miniconda3/lib/python37.zip:/miniconda3/lib/python3.7:/miniconda3/lib/python3.7/lib-dynload:/miniconda3/lib/python3.7/site-packages\u001b[0m\n",
      "\u001b[34mInvoking script with the following command:\u001b[0m\n",
      "\u001b[34m/miniconda3/bin/python script.py --max_depth 6 --n_estimators 16 --random_state 42\u001b[0m\n",
      "\u001b[34mTraining with parameters: Namespace(max_depth=6, model_dir='/opt/ml/model', n_estimators=16, random_state=42, train_data='/opt/ml/input/data/train')\u001b[0m\n",
      "\u001b[34mLoading training data...\u001b[0m\n",
      "\u001b[34mValidation Accuracy: 0.9975\u001b[0m\n",
      "\u001b[34mModel saved to /opt/ml/model/model.joblib\u001b[0m\n",
      "\u001b[34m2025-07-24 19:06:47,701 sagemaker-containers INFO     Reporting training SUCCESS\u001b[0m\n",
      "\n",
      "2025-07-24 19:07:06 Uploading - Uploading generated training model\n",
      "2025-07-24 19:07:06 Completed - Training job completed\n",
      "Training seconds: 99\n",
      "Billable seconds: 99\n"
     ]
    }
   ],
   "source": [
    "model.fit({'train': raw_data_input})"
   ]
  },
  {
   "cell_type": "code",
   "execution_count": 16,
   "id": "ec84f1b1-96a1-409c-b98f-a6ce0af33a68",
   "metadata": {
    "execution": {
     "iopub.execute_input": "2025-07-24T19:26:31.348391Z",
     "iopub.status.busy": "2025-07-24T19:26:31.347654Z",
     "iopub.status.idle": "2025-07-24T19:29:33.130577Z",
     "shell.execute_reply": "2025-07-24T19:29:33.129356Z",
     "shell.execute_reply.started": "2025-07-24T19:26:31.348363Z"
    }
   },
   "outputs": [
    {
     "name": "stderr",
     "output_type": "stream",
     "text": [
      "INFO:sagemaker:Creating model with name: rf-training-job-2025-07-24-19-26-31-349\n",
      "INFO:sagemaker:Creating endpoint-config with name first-test-3\n",
      "INFO:sagemaker:Creating endpoint with name first-test-3\n"
     ]
    },
    {
     "name": "stdout",
     "output_type": "stream",
     "text": [
      "-----!"
     ]
    }
   ],
   "source": [
    "predictor = model.deploy(\n",
    "    initial_instance_count=1,\n",
    "    instance_type='ml.m5.xlarge',\n",
    "    endpoint_name=\"first-test-3\"\n",
    ")"
   ]
  },
  {
   "cell_type": "code",
   "execution_count": 21,
   "id": "dcfdb892-5464-4edc-a9a1-3fa3f2c60a56",
   "metadata": {
    "execution": {
     "iopub.execute_input": "2025-07-24T19:37:28.645693Z",
     "iopub.status.busy": "2025-07-24T19:37:28.644942Z",
     "iopub.status.idle": "2025-07-24T19:37:28.649025Z",
     "shell.execute_reply": "2025-07-24T19:37:28.648327Z",
     "shell.execute_reply.started": "2025-07-24T19:37:28.645661Z"
    }
   },
   "outputs": [],
   "source": [
    "s3_clean_traindata_bucket = \"s3://ml-project-demo-zakaria/training_data/cleaned_data.csv\""
   ]
  },
  {
   "cell_type": "code",
   "execution_count": 40,
   "id": "85ca516c-9316-4f5e-a7aa-1e647e3eeeff",
   "metadata": {
    "execution": {
     "iopub.execute_input": "2025-07-24T19:46:23.709825Z",
     "iopub.status.busy": "2025-07-24T19:46:23.709475Z",
     "iopub.status.idle": "2025-07-24T19:46:23.839063Z",
     "shell.execute_reply": "2025-07-24T19:46:23.838288Z",
     "shell.execute_reply.started": "2025-07-24T19:46:23.709799Z"
    }
   },
   "outputs": [
    {
     "data": {
      "text/html": [
       "<div>\n",
       "<style scoped>\n",
       "    .dataframe tbody tr th:only-of-type {\n",
       "        vertical-align: middle;\n",
       "    }\n",
       "\n",
       "    .dataframe tbody tr th {\n",
       "        vertical-align: top;\n",
       "    }\n",
       "\n",
       "    .dataframe thead th {\n",
       "        text-align: right;\n",
       "    }\n",
       "</style>\n",
       "<table border=\"1\" class=\"dataframe\">\n",
       "  <thead>\n",
       "    <tr style=\"text-align: right;\">\n",
       "      <th></th>\n",
       "      <th>IQ</th>\n",
       "      <th>Prev_Sem_Result</th>\n",
       "      <th>CGPA</th>\n",
       "      <th>Academic_Performance</th>\n",
       "      <th>Internship_Experience</th>\n",
       "      <th>Extra_Curricular_Score</th>\n",
       "      <th>Communication_Skills</th>\n",
       "      <th>Projects_Completed</th>\n",
       "      <th>Placement</th>\n",
       "    </tr>\n",
       "  </thead>\n",
       "  <tbody>\n",
       "    <tr>\n",
       "      <th>0</th>\n",
       "      <td>107</td>\n",
       "      <td>6.61</td>\n",
       "      <td>6.28</td>\n",
       "      <td>8</td>\n",
       "      <td>0</td>\n",
       "      <td>8</td>\n",
       "      <td>8</td>\n",
       "      <td>4</td>\n",
       "      <td>No</td>\n",
       "    </tr>\n",
       "    <tr>\n",
       "      <th>1</th>\n",
       "      <td>97</td>\n",
       "      <td>5.52</td>\n",
       "      <td>5.37</td>\n",
       "      <td>8</td>\n",
       "      <td>0</td>\n",
       "      <td>7</td>\n",
       "      <td>8</td>\n",
       "      <td>0</td>\n",
       "      <td>No</td>\n",
       "    </tr>\n",
       "    <tr>\n",
       "      <th>2</th>\n",
       "      <td>109</td>\n",
       "      <td>5.36</td>\n",
       "      <td>5.83</td>\n",
       "      <td>9</td>\n",
       "      <td>0</td>\n",
       "      <td>3</td>\n",
       "      <td>1</td>\n",
       "      <td>1</td>\n",
       "      <td>No</td>\n",
       "    </tr>\n",
       "    <tr>\n",
       "      <th>3</th>\n",
       "      <td>122</td>\n",
       "      <td>5.47</td>\n",
       "      <td>5.75</td>\n",
       "      <td>6</td>\n",
       "      <td>1</td>\n",
       "      <td>1</td>\n",
       "      <td>6</td>\n",
       "      <td>1</td>\n",
       "      <td>No</td>\n",
       "    </tr>\n",
       "    <tr>\n",
       "      <th>4</th>\n",
       "      <td>96</td>\n",
       "      <td>7.91</td>\n",
       "      <td>7.69</td>\n",
       "      <td>7</td>\n",
       "      <td>0</td>\n",
       "      <td>8</td>\n",
       "      <td>10</td>\n",
       "      <td>2</td>\n",
       "      <td>No</td>\n",
       "    </tr>\n",
       "  </tbody>\n",
       "</table>\n",
       "</div>"
      ],
      "text/plain": [
       "    IQ  Prev_Sem_Result  CGPA  Academic_Performance  Internship_Experience  \\\n",
       "0  107             6.61  6.28                     8                      0   \n",
       "1   97             5.52  5.37                     8                      0   \n",
       "2  109             5.36  5.83                     9                      0   \n",
       "3  122             5.47  5.75                     6                      1   \n",
       "4   96             7.91  7.69                     7                      0   \n",
       "\n",
       "   Extra_Curricular_Score  Communication_Skills  Projects_Completed Placement  \n",
       "0                       8                     8                   4        No  \n",
       "1                       7                     8                   0        No  \n",
       "2                       3                     1                   1        No  \n",
       "3                       1                     6                   1        No  \n",
       "4                       8                    10                   2        No  "
      ]
     },
     "execution_count": 40,
     "metadata": {},
     "output_type": "execute_result"
    }
   ],
   "source": [
    "import pandas as pd\n",
    "import numpy as np\n",
    "\n",
    "data = pd.read_csv(s3_clean_traindata_bucket)\n",
    "data.head()"
   ]
  },
  {
   "cell_type": "code",
   "execution_count": 51,
   "id": "fc2c4235-178f-4594-b352-19bd48f0d182",
   "metadata": {
    "execution": {
     "iopub.execute_input": "2025-07-24T19:49:40.331267Z",
     "iopub.status.busy": "2025-07-24T19:49:40.330861Z",
     "iopub.status.idle": "2025-07-24T19:49:40.337825Z",
     "shell.execute_reply": "2025-07-24T19:49:40.337027Z",
     "shell.execute_reply.started": "2025-07-24T19:49:40.331239Z"
    }
   },
   "outputs": [],
   "source": [
    "test_data = data.drop('Placement', axis=1).sample(20).values.tolist()"
   ]
  },
  {
   "cell_type": "code",
   "execution_count": 52,
   "id": "9180807a-89c0-4c97-8a2d-0aa7e6c287ec",
   "metadata": {
    "execution": {
     "iopub.execute_input": "2025-07-24T19:49:42.171540Z",
     "iopub.status.busy": "2025-07-24T19:49:42.170761Z",
     "iopub.status.idle": "2025-07-24T19:49:42.177394Z",
     "shell.execute_reply": "2025-07-24T19:49:42.176473Z",
     "shell.execute_reply.started": "2025-07-24T19:49:42.171509Z"
    }
   },
   "outputs": [
    {
     "data": {
      "text/plain": [
       "[[100.0, 5.53, 6.02, 2.0, 0.0, 10.0, 10.0, 0.0],\n",
       " [88.0, 6.52, 6.66, 7.0, 1.0, 10.0, 9.0, 4.0],\n",
       " [88.0, 7.38, 7.02, 8.0, 1.0, 10.0, 7.0, 3.0],\n",
       " [124.0, 7.65, 7.73, 3.0, 0.0, 8.0, 9.0, 4.0],\n",
       " [95.0, 9.74, 9.89, 4.0, 0.0, 10.0, 9.0, 5.0],\n",
       " [101.0, 6.19, 6.43, 9.0, 1.0, 5.0, 4.0, 3.0],\n",
       " [107.0, 8.27, 8.56, 1.0, 1.0, 3.0, 2.0, 5.0],\n",
       " [101.0, 8.6, 8.57, 4.0, 0.0, 7.0, 4.0, 4.0],\n",
       " [114.0, 9.63, 9.6, 4.0, 0.0, 9.0, 4.0, 4.0],\n",
       " [130.0, 8.55, 8.5, 7.0, 0.0, 1.0, 4.0, 2.0],\n",
       " [96.0, 6.64, 6.9, 4.0, 1.0, 3.0, 1.0, 0.0],\n",
       " [123.0, 9.58, 9.08, 6.0, 1.0, 5.0, 3.0, 5.0],\n",
       " [66.0, 5.57, 5.16, 4.0, 0.0, 5.0, 5.0, 4.0],\n",
       " [94.0, 9.93, 9.89, 4.0, 0.0, 7.0, 6.0, 4.0],\n",
       " [105.0, 8.04, 8.3, 5.0, 1.0, 10.0, 2.0, 3.0],\n",
       " [120.0, 5.57, 5.33, 9.0, 0.0, 4.0, 9.0, 5.0],\n",
       " [108.0, 8.74, 9.0, 3.0, 1.0, 10.0, 9.0, 5.0],\n",
       " [104.0, 7.02, 7.1, 1.0, 1.0, 9.0, 2.0, 4.0],\n",
       " [91.0, 7.24, 7.15, 7.0, 1.0, 10.0, 7.0, 1.0],\n",
       " [101.0, 7.64, 7.77, 4.0, 1.0, 6.0, 9.0, 3.0]]"
      ]
     },
     "execution_count": 52,
     "metadata": {},
     "output_type": "execute_result"
    }
   ],
   "source": [
    "test_data"
   ]
  },
  {
   "cell_type": "code",
   "execution_count": 54,
   "id": "f2370171-2923-437d-be9f-e0610756301a",
   "metadata": {
    "execution": {
     "iopub.execute_input": "2025-07-24T20:24:14.106845Z",
     "iopub.status.busy": "2025-07-24T20:24:14.106475Z",
     "iopub.status.idle": "2025-07-24T20:24:14.174375Z",
     "shell.execute_reply": "2025-07-24T20:24:14.173491Z",
     "shell.execute_reply.started": "2025-07-24T20:24:14.106811Z"
    }
   },
   "outputs": [
    {
     "name": "stdout",
     "output_type": "stream",
     "text": [
      "['No' 'No' 'No' 'Yes' 'Yes' 'No' 'No' 'No' 'Yes' 'Yes' 'No' 'Yes' 'No'\n",
      " 'No' 'No' 'Yes' 'Yes' 'No' 'No' 'No']\n"
     ]
    }
   ],
   "source": [
    "from sagemaker.deserializers import NumpyDeserializer\n",
    "\n",
    "predictor.deserializer = NumpyDeserializer(allow_pickle=True)\n",
    "\n",
    "result = predictor.predict(test_data)\n",
    "print(result)"
   ]
  }
 ],
 "metadata": {
  "kernelspec": {
   "display_name": "Python 3 (ipykernel)",
   "language": "python",
   "name": "python3"
  },
  "language_info": {
   "codemirror_mode": {
    "name": "ipython",
    "version": 3
   },
   "file_extension": ".py",
   "mimetype": "text/x-python",
   "name": "python",
   "nbconvert_exporter": "python",
   "pygments_lexer": "ipython3",
   "version": "3.12.9"
  }
 },
 "nbformat": 4,
 "nbformat_minor": 5
}
